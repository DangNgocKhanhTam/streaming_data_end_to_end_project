{
 "cells": [
  {
   "cell_type": "code",
   "execution_count": 1,
   "id": "2beea4da",
   "metadata": {},
   "outputs": [],
   "source": [
    "import json\n",
    "import requests\n"
   ]
  },
  {
   "cell_type": "code",
   "execution_count": 2,
   "id": "26cad743",
   "metadata": {},
   "outputs": [
    {
     "name": "stdout",
     "output_type": "stream",
     "text": [
      "{'results': [{'gender': 'female', 'name': {'title': 'Ms', 'first': 'Gertrude', 'last': 'Hunter'}, 'location': {'street': {'number': 4877, 'name': 'Eason Rd'}, 'city': 'Mildura', 'state': 'Western Australia', 'country': 'Australia', 'postcode': 6190, 'coordinates': {'latitude': '-87.5341', 'longitude': '19.4611'}, 'timezone': {'offset': '+9:00', 'description': 'Tokyo, Seoul, Osaka, Sapporo, Yakutsk'}}, 'email': 'gertrude.hunter@example.com', 'login': {'uuid': '57fe739f-df50-4604-bcb7-eb36834efc3e', 'username': 'lazytiger772', 'password': 'picture', 'salt': '9xaydrUY', 'md5': 'a409594fbc84f9cd7da6b0cc17bc4623', 'sha1': '0a4f4a89ceac21065d438158d3b8b547286d318f', 'sha256': 'b19ea3028aec4f3c5c68078931f9a896200ed186d27398ceae7b69037d6d4e1b'}, 'dob': {'date': '1956-07-14T15:10:26.988Z', 'age': 68}, 'registered': {'date': '2010-03-02T04:53:00.781Z', 'age': 15}, 'phone': '02-2997-2920', 'cell': '0481-561-101', 'id': {'name': 'TFN', 'value': '193768568'}, 'picture': {'large': 'https://randomuser.me/api/portraits/women/50.jpg', 'medium': 'https://randomuser.me/api/portraits/med/women/50.jpg', 'thumbnail': 'https://randomuser.me/api/portraits/thumb/women/50.jpg'}, 'nat': 'AU'}], 'info': {'seed': 'be8e2e335bffeefc', 'results': 1, 'page': 1, 'version': '1.4'}}\n"
     ]
    }
   ],
   "source": [
    "res = requests.get(\"https://randomuser.me/api/\")\n",
    "print(res.json())"
   ]
  }
 ],
 "metadata": {
  "kernelspec": {
   "display_name": "virtual_env",
   "language": "python",
   "name": "python3"
  },
  "language_info": {
   "codemirror_mode": {
    "name": "ipython",
    "version": 3
   },
   "file_extension": ".py",
   "mimetype": "text/x-python",
   "name": "python",
   "nbconvert_exporter": "python",
   "pygments_lexer": "ipython3",
   "version": "3.11.11"
  }
 },
 "nbformat": 4,
 "nbformat_minor": 5
}
